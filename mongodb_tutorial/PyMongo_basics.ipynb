{
 "cells": [
  {
   "cell_type": "code",
   "execution_count": 1,
   "id": "aa930400",
   "metadata": {
    "ExecuteTime": {
     "end_time": "2021-11-19T03:14:43.638371Z",
     "start_time": "2021-11-19T03:14:40.693478Z"
    }
   },
   "outputs": [
    {
     "name": "stdout",
     "output_type": "stream",
     "text": [
      "Requirement already satisfied: PyMongo in /Users/whw/.pyenv/versions/3.8.7/lib/python3.8/site-packages (3.12.1)\n",
      "Requirement already satisfied: names in /Users/whw/.pyenv/versions/3.8.7/lib/python3.8/site-packages (0.3.0)\n",
      "\u001b[33mWARNING: You are using pip version 21.0.1; however, version 21.3.1 is available.\n",
      "You should consider upgrading via the '/Users/whw/.pyenv/versions/3.8.7/bin/python3.8 -m pip install --upgrade pip' command.\u001b[0m\n"
     ]
    }
   ],
   "source": [
    "# install PyMongo with pip\n",
    "!pip install PyMongo names"
   ]
  },
  {
   "cell_type": "code",
   "execution_count": 2,
   "id": "36261eeb",
   "metadata": {
    "ExecuteTime": {
     "end_time": "2021-11-19T03:14:43.915254Z",
     "start_time": "2021-11-19T03:14:43.644394Z"
    },
    "code_folding": []
   },
   "outputs": [],
   "source": [
    "# import libs\n",
    "from datetime import datetime\n",
    "from pprint import pprint\n",
    "import random\n",
    "import time\n",
    "import uuid\n",
    "\n",
    "from pymongo import MongoClient\n",
    "import names\n",
    "import bson"
   ]
  },
  {
   "cell_type": "code",
   "execution_count": 3,
   "id": "f89d4f8f",
   "metadata": {
    "ExecuteTime": {
     "end_time": "2021-11-19T03:14:43.965184Z",
     "start_time": "2021-11-19T03:14:43.924263Z"
    }
   },
   "outputs": [],
   "source": [
    "# get client instance (connect to 127.0.0.1:27017 by default)\n",
    "client = MongoClient() \n",
    "\n",
    "# get database instance\n",
    "db = client['registration']\n",
    "\n",
    "# get collection instances (these commands do not create a collection until its first insertion)\n",
    "students_coll = db['students']\n",
    "classes_coll = db['classes']"
   ]
  },
  {
   "cell_type": "code",
   "execution_count": 4,
   "id": "8d871c87",
   "metadata": {
    "ExecuteTime": {
     "end_time": "2021-11-19T03:14:43.977542Z",
     "start_time": "2021-11-19T03:14:43.971821Z"
    },
    "code_folding": [
     16,
     22
    ]
   },
   "outputs": [],
   "source": [
    "# some prefined variables & mock data generators\n",
    "DEPARTMENTS = ['CS', 'EE', 'CE']\n",
    "AGES = list(range(17, 30))\n",
    "\n",
    "def generate_student_data(_id=None):\n",
    "    return {\n",
    "        '_id': _id or bson.ObjectId(),\n",
    "        'student_id': str(uuid.uuid1()),\n",
    "        'name': names.get_full_name(),\n",
    "        'major': random.choice(DEPARTMENTS),\n",
    "        'minor': None if random.random() > 0.05 else random.choice(DEPARTMENTS),\n",
    "        'age': random.choice(AGES),\n",
    "        'graduated': False\n",
    "    }\n"
   ]
  },
  {
   "cell_type": "markdown",
   "id": "69dae95d",
   "metadata": {},
   "source": [
    "### Basic CRUD operations"
   ]
  },
  {
   "cell_type": "code",
   "execution_count": 5,
   "id": "158eb7f3",
   "metadata": {
    "ExecuteTime": {
     "end_time": "2021-11-19T03:14:44.103455Z",
     "start_time": "2021-11-19T03:14:43.980066Z"
    },
    "code_folding": []
   },
   "outputs": [
    {
     "name": "stdout",
     "output_type": "stream",
     "text": [
      "# insertOne\n",
      "{'_id': ObjectId('619716a3676ddf3503c4bf03'),\n",
      " 'age': 22,\n",
      " 'graduated': False,\n",
      " 'major': 'CE',\n",
      " 'minor': None,\n",
      " 'name': 'James Carter',\n",
      " 'student_id': 'd7ae9242-48e6-11ec-9460-784f435de619'}\n",
      "student_id: d7ae9242-48e6-11ec-9460-784f435de619\n",
      "ObjectId('619716a3676ddf3503c4bf03')\n",
      "\n",
      "# insertMany\n",
      "[ObjectId('619716a3676ddf3503c4bf04'),\n",
      " ObjectId('619716a4676ddf3503c4bf05'),\n",
      " ObjectId('619716a4676ddf3503c4bf06'),\n",
      " ObjectId('619716a4676ddf3503c4bf07'),\n",
      " ObjectId('619716a4676ddf3503c4bf08')]\n"
     ]
    }
   ],
   "source": [
    "# Create\n",
    "# insert one\n",
    "print('# insertOne')\n",
    "student_data = generate_student_data()\n",
    "pprint(student_data)\n",
    "student_id = student_data['student_id']\n",
    "print(f\"student_id: {student_id}\")\n",
    "updated = students_coll.insert_one(student_data)\n",
    "pprint(updated.inserted_id)\n",
    "\n",
    "# insert many\n",
    "print('\\n# insertMany')\n",
    "students = [\n",
    "    generate_student_data(),\n",
    "    generate_student_data(),\n",
    "    generate_student_data(),\n",
    "    generate_student_data(),\n",
    "    generate_student_data(),\n",
    "]\n",
    "updated = students_coll.insert_many(students)\n",
    "pprint(updated.inserted_ids)"
   ]
  },
  {
   "cell_type": "code",
   "execution_count": 6,
   "id": "33317477",
   "metadata": {
    "ExecuteTime": {
     "end_time": "2021-11-19T03:14:44.285467Z",
     "start_time": "2021-11-19T03:14:44.105995Z"
    },
    "code_folding": []
   },
   "outputs": [
    {
     "name": "stdout",
     "output_type": "stream",
     "text": [
      "\n",
      "# findOne\n",
      "{'_id': ObjectId('619716a3676ddf3503c4bf03'),\n",
      " 'age': 22,\n",
      " 'graduated': False,\n",
      " 'major': 'CE',\n",
      " 'minor': None,\n",
      " 'name': 'James Carter',\n",
      " 'student_id': 'd7ae9242-48e6-11ec-9460-784f435de619'}\n",
      "{'major': 'CE', 'name': 'James Carter'}\n",
      "\n",
      "# findMany\n",
      "<pymongo.cursor.Cursor object at 0x1094537c0>\n",
      "[{'graduated': True, 'major': 'CS', 'name': 'Elida Maldonado'},\n",
      " {'graduated': True, 'major': 'CS', 'name': 'Leslie Kuehn'}]\n"
     ]
    }
   ],
   "source": [
    "# Read\n",
    "# find one \n",
    "print('\\n# findOne')\n",
    "student = students_coll.find_one({'student_id': student_id})\n",
    "pprint(student)\n",
    "\n",
    "# find one (return selected field only)\n",
    "student = students_coll.find_one(\n",
    "    {'student_id': student_id},\n",
    "    {\n",
    "        '_id': 0,\n",
    "        'name': 1,\n",
    "        'major': 1, \n",
    "    },\n",
    ")\n",
    "pprint(student)\n",
    "\n",
    "# find many\n",
    "print('\\n# findMany')\n",
    "students = students_coll.find(\n",
    "    {'major': 'CS'},\n",
    "    {\n",
    "        '_id': 0,\n",
    "        'name': 1,\n",
    "        'major': 1, \n",
    "        'graduated': 1, \n",
    "    }\n",
    ").limit(2)\n",
    "pprint(students)\n",
    "pprint(list(students))"
   ]
  },
  {
   "cell_type": "code",
   "execution_count": 7,
   "id": "046aba17",
   "metadata": {
    "ExecuteTime": {
     "end_time": "2021-11-19T03:14:44.935169Z",
     "start_time": "2021-11-19T03:14:44.291364Z"
    },
    "code_folding": []
   },
   "outputs": [
    {
     "name": "stdout",
     "output_type": "stream",
     "text": [
      "\n",
      "# updateOne\n",
      "{'n': 1, 'nModified': 1, 'ok': 1.0, 'updatedExisting': True}\n",
      "{'_id': ObjectId('619716a3676ddf3503c4bf03'),\n",
      " 'age': 25,\n",
      " 'graduated': False,\n",
      " 'major': 'CE',\n",
      " 'minor': None,\n",
      " 'name': 'Matt Wang',\n",
      " 'student_id': 'd7ae9242-48e6-11ec-9460-784f435de619'}\n",
      "\n",
      "# updateMany\n",
      "{'n': 90942, 'nModified': 4, 'ok': 1.0, 'updatedExisting': True}\n",
      "[{'_id': ObjectId('6196f7987dbe6980a1d13875'),\n",
      "  'age': 27,\n",
      "  'graduated': True,\n",
      "  'major': 'EE',\n",
      "  'minor': None,\n",
      "  'name': 'Richard Broadwell',\n",
      "  'student_id': '566f3d10-48d4-11ec-92d8-acde48001122'},\n",
      " {'_id': ObjectId('6196f7987dbe6980a1d13877'),\n",
      "  'age': 24,\n",
      "  'graduated': True,\n",
      "  'major': 'EE',\n",
      "  'minor': None,\n",
      "  'name': 'Raymond Cox',\n",
      "  'student_id': '5672aa4a-48d4-11ec-92d8-acde48001122'},\n",
      " {'_id': ObjectId('6196f7987dbe6980a1d13878'),\n",
      "  'age': 23,\n",
      "  'graduated': True,\n",
      "  'major': 'CS',\n",
      "  'minor': None,\n",
      "  'name': 'Leslie Kuehn',\n",
      "  'student_id': '5672b968-48d4-11ec-92d8-acde48001122'}]\n"
     ]
    }
   ],
   "source": [
    "# Update\n",
    "# update one \n",
    "print('\\n# updateOne')\n",
    "updated = students_coll.update_one(\n",
    "    {'student_id': student_id},\n",
    "    {'$set': {'name': 'Matt Wang'}, '$inc': {'age': 3}}\n",
    ")\n",
    "pprint(updated.raw_result)\n",
    "pprint(students_coll.find_one({'student_id': student_id}))\n",
    "\n",
    "# update all\n",
    "print('\\n# updateMany')\n",
    "filter_cond = {'age': {'$gt': 20}}\n",
    "updated = students_coll.update_many(\n",
    "    filter_cond,\n",
    "    {'$set': {'graduated': True}}\n",
    ")\n",
    "pprint(updated.raw_result)\n",
    "pprint(list(students_coll.find(filter_cond).limit(3)))"
   ]
  },
  {
   "cell_type": "code",
   "execution_count": 8,
   "id": "6eee3a4b",
   "metadata": {
    "ExecuteTime": {
     "end_time": "2021-11-19T03:14:45.225983Z",
     "start_time": "2021-11-19T03:14:44.938645Z"
    },
    "code_folding": []
   },
   "outputs": [
    {
     "name": "stdout",
     "output_type": "stream",
     "text": [
      "\n",
      "# deleteOne\n",
      "{'n': 1, 'ok': 1.0}\n",
      "{'_id': ObjectId('619716a3676ddf3503c4bf03'),\n",
      " 'age': 25,\n",
      " 'graduated': True,\n",
      " 'major': 'CE',\n",
      " 'minor': None,\n",
      " 'name': 'Matt Wang',\n",
      " 'student_id': 'd7ae9242-48e6-11ec-9460-784f435de619'}\n",
      "\n",
      "# deleteMany\n",
      "{'n': 1, 'ok': 1.0}\n",
      "None\n"
     ]
    }
   ],
   "source": [
    "# Delete\n",
    "# delete one \n",
    "print('\\n# deleteOne')\n",
    "cond = {'name': 'Matt Wang'}\n",
    "updated = students_coll.delete_one(cond)\n",
    "pprint(updated.raw_result)\n",
    "pprint(students_coll.find_one(cond))\n",
    "\n",
    "# delete all\n",
    "print('\\n# deleteMany')\n",
    "cond = {'age': {'$lte': 18}}\n",
    "updated = students_coll.delete_many(cond)\n",
    "pprint(updated.raw_result)\n",
    "pprint(students_coll.find_one(cond))"
   ]
  },
  {
   "cell_type": "markdown",
   "id": "a9e05d82",
   "metadata": {},
   "source": [
    "### `bulkWrite()` in PyMongo\n",
    "\n",
    "[doc](https://pymongo.readthedocs.io/en/stable/examples/bulk.html)"
   ]
  },
  {
   "cell_type": "code",
   "execution_count": 9,
   "id": "543d20ee",
   "metadata": {
    "ExecuteTime": {
     "end_time": "2021-11-19T03:14:45.385127Z",
     "start_time": "2021-11-19T03:14:45.228185Z"
    },
    "code_folding": []
   },
   "outputs": [],
   "source": [
    "# bulkwrite\n",
    "from pymongo import InsertOne, UpdateOne, UpdateMany, DeleteOne, DeleteMany # note that there's no InsertMany\n",
    "from pymongo.errors import BulkWriteError\n",
    "\n",
    "ops = [\n",
    "    InsertOne({'name': 'whatever1'}),\n",
    "    InsertOne({'name': 'whatever2', 'age': -4}),\n",
    "    UpdateOne({'name': 'whatever2'}, {'$set': {'age': 100}}),\n",
    "    DeleteMany({'name': {'$regex': \"what*\"}})\n",
    "]\n",
    "\n",
    "try:\n",
    "    students_coll.bulk_write(ops)\n",
    "except BulkWriteError as bwe:\n",
    "    pprint(bwe.details)"
   ]
  },
  {
   "cell_type": "markdown",
   "id": "f3eecefd",
   "metadata": {},
   "source": [
    "### Brief Comparison w/o MongoDB Indexes"
   ]
  },
  {
   "cell_type": "code",
   "execution_count": 10,
   "id": "a567be0e",
   "metadata": {
    "ExecuteTime": {
     "end_time": "2021-11-19T03:14:45.401095Z",
     "start_time": "2021-11-19T03:14:45.387967Z"
    }
   },
   "outputs": [],
   "source": [
    "# create bulk data in a thread\n",
    "import threading\n",
    "\n",
    "def create_bulk_data():\n",
    "    for _ in range(100):\n",
    "        data = list(map(lambda _: generate_student_data(), range(10**4)))\n",
    "        students_coll.insert_many(data)\n",
    "        \n",
    "t = threading.Thread(target=create_bulk_data)\n",
    "t.start()"
   ]
  },
  {
   "cell_type": "code",
   "execution_count": 11,
   "id": "24f59f59",
   "metadata": {
    "ExecuteTime": {
     "end_time": "2021-11-19T03:14:45.540722Z",
     "start_time": "2021-11-19T03:14:45.412700Z"
    }
   },
   "outputs": [
    {
     "name": "stdout",
     "output_type": "stream",
     "text": [
      "{'_id': ObjectId('619716a3676ddf3503c4bf03'), 'student_id': 'd7ae9242-48e6-11ec-9460-784f435de619', 'name': 'Matt Wang', 'major': 'CE', 'minor': None, 'age': 25, 'graduated': True}\n",
      "time lapsed: 0.117956\n",
      "\n"
     ]
    }
   ],
   "source": [
    "# without index\n",
    "now = datetime.now()\n",
    "print(students_coll.find_one({'student_id': student_id}))\n",
    "print(f\"time lapsed: {(datetime.now() - now).total_seconds()}\\n\")\n"
   ]
  },
  {
   "cell_type": "code",
   "execution_count": 12,
   "id": "07cb7a34",
   "metadata": {
    "ExecuteTime": {
     "end_time": "2021-11-19T03:14:49.105563Z",
     "start_time": "2021-11-19T03:14:45.545644Z"
    }
   },
   "outputs": [
    {
     "name": "stdout",
     "output_type": "stream",
     "text": [
      "{'_id': ObjectId('619716a3676ddf3503c4bf03'), 'student_id': 'd7ae9242-48e6-11ec-9460-784f435de619', 'name': 'Matt Wang', 'major': 'CE', 'minor': None, 'age': 25, 'graduated': True}\n",
      "time lapsed: 0.014705\n",
      "\n"
     ]
    }
   ],
   "source": [
    "# with index\n",
    "students_coll.create_index([ (\"student_id\", 1) ])\n",
    "time.sleep(3)\n",
    "\n",
    "now = datetime.now()\n",
    "print(students_coll.find_one({'student_id': student_id}))\n",
    "print(f\"time lapsed: {(datetime.now() - now).total_seconds()}\\n\")\n",
    "\n",
    "# delete index\n",
    "students_coll.drop_index([ (\"student_id\", 1) ])"
   ]
  },
  {
   "cell_type": "markdown",
   "id": "a8bff238",
   "metadata": {},
   "source": [
    "### Clean up"
   ]
  },
  {
   "cell_type": "code",
   "execution_count": 13,
   "id": "05795238",
   "metadata": {
    "ExecuteTime": {
     "end_time": "2021-11-19T03:14:49.158965Z",
     "start_time": "2021-11-19T03:14:49.146424Z"
    }
   },
   "outputs": [],
   "source": [
    "# clean up db data\n",
    "# client.drop_database('registration')"
   ]
  },
  {
   "cell_type": "code",
   "execution_count": 14,
   "id": "cf7f3fcf",
   "metadata": {
    "ExecuteTime": {
     "end_time": "2021-11-19T03:14:49.199352Z",
     "start_time": "2021-11-19T03:14:49.166760Z"
    }
   },
   "outputs": [],
   "source": [
    "# clean up dependencies\n",
    "# !pip uninstall PyMongo names -y"
   ]
  }
 ],
 "metadata": {
  "kernelspec": {
   "display_name": "Python 3",
   "language": "python",
   "name": "python3"
  },
  "language_info": {
   "codemirror_mode": {
    "name": "ipython",
    "version": 3
   },
   "file_extension": ".py",
   "mimetype": "text/x-python",
   "name": "python",
   "nbconvert_exporter": "python",
   "pygments_lexer": "ipython3",
   "version": "3.8.7"
  },
  "latex_envs": {
   "LaTeX_envs_menu_present": true,
   "autoclose": false,
   "autocomplete": true,
   "bibliofile": "biblio.bib",
   "cite_by": "apalike",
   "current_citInitial": 1,
   "eqLabelWithNumbers": true,
   "eqNumInitial": 1,
   "hotkeys": {
    "equation": "Ctrl-E",
    "itemize": "Ctrl-I"
   },
   "labels_anchors": false,
   "latex_user_defs": false,
   "report_style_numbering": false,
   "user_envs_cfg": false
  },
  "toc": {
   "base_numbering": 1,
   "nav_menu": {},
   "number_sections": false,
   "sideBar": true,
   "skip_h1_title": true,
   "title_cell": "Table of Contents",
   "title_sidebar": "Contents",
   "toc_cell": false,
   "toc_position": {},
   "toc_section_display": true,
   "toc_window_display": false
  }
 },
 "nbformat": 4,
 "nbformat_minor": 5
}
